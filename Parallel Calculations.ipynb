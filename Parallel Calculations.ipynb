{
  "cells": [
    {
      "cell_type": "code",
      "execution_count": null,
      "metadata": {
        "colab": {
          "base_uri": "https://localhost:8080/"
        },
        "id": "eODehswFkCPP",
        "outputId": "18937e24-6db0-4d7c-e769-4affd88c7959"
      },
      "outputs": [
        {
          "name": "stdout",
          "output_type": "stream",
          "text": [
            "Looking in indexes: https://pypi.org/simple, https://us-python.pkg.dev/colab-wheels/public/simple/\n",
            "Collecting pymp-pypi\n",
            "  Downloading pymp-pypi-0.5.0.tar.gz (12 kB)\n",
            "Building wheels for collected packages: pymp-pypi\n",
            "  Building wheel for pymp-pypi (setup.py) ... \u001b[?25l\u001b[?25hdone\n",
            "  Created wheel for pymp-pypi: filename=pymp_pypi-0.5.0-py3-none-any.whl size=10339 sha256=3f61d89ce85a4b700ad26ab8e44f1eaf121aa3e5ec1e00f6c6ddd9bcc59dabce\n",
            "  Stored in directory: /root/.cache/pip/wheels/22/2a/4e/d49c406bb5eb2c04b424940de41d40b3b1481c31b9f93a13c1\n",
            "Successfully built pymp-pypi\n",
            "Installing collected packages: pymp-pypi\n",
            "Successfully installed pymp-pypi-0.5.0\n"
          ]
        }
      ],
      "source": [
        "!pip install pymp-pypi"
      ]
    },
    {
      "cell_type": "code",
      "execution_count": null,
      "metadata": {
        "id": "9-WUWCxfsKuW"
      },
      "outputs": [],
      "source": [
        "from __future__ import print_function\n",
        "\n",
        "import pymp\n",
        "import random\n",
        "import numpy as np\n",
        "import time\n",
        "from sympy import isprime\n"
      ]
    },
    {
      "cell_type": "markdown",
      "metadata": {
        "id": "myBGIJGsyrBX"
      },
      "source": [
        "Linear Search"
      ]
    },
    {
      "cell_type": "code",
      "execution_count": null,
      "metadata": {
        "colab": {
          "base_uri": "https://localhost:8080/"
        },
        "id": "zmClhMWAkypr",
        "outputId": "ea2267a6-9951-47bd-b436-3bc64bc75141"
      },
      "outputs": [
        {
          "name": "stdout",
          "output_type": "stream",
          "text": [
            "11\n"
          ]
        }
      ],
      "source": [
        "#%%timeit\n",
        "def linearsearch(arr,search_var):\n",
        "  count=0\n",
        "  for i in range(len(arr)):\n",
        "    if arr[i]==search_var:\n",
        "      count+=1\n",
        "  return count\n",
        "\n",
        "number_to_search=5\n",
        "\n",
        "input_array=[random.randint(1,10) for i in range(100)]\n",
        "array_len=len(input_array)\n",
        "\n",
        "\n",
        "count = linearsearch(input_array,number_to_search)\n",
        "\n",
        "print(count)"
      ]
    },
    {
      "cell_type": "code",
      "execution_count": null,
      "metadata": {
        "colab": {
          "base_uri": "https://localhost:8080/"
        },
        "id": "HBGQrk4HkbEb",
        "outputId": "88be8993-bcc5-4a14-e55f-c077e0360447"
      },
      "outputs": [
        {
          "name": "stdout",
          "output_type": "stream",
          "text": [
            "2\n"
          ]
        }
      ],
      "source": [
        "\n",
        "\n",
        "number_to_search=5\n",
        "array_len=100\n",
        "\n",
        "ex_array = pymp.shared.array((array_len,), dtype='uint8')\n",
        "for index in range(0, array_len):\n",
        "  ex_array[index] = random.randint(1,10)\n",
        "\n",
        "count = 0\n",
        "\n",
        "with pymp.Parallel(4) as p:\n",
        "  for index in p.range(0,array_len):\n",
        "    if ex_array[index]==number_to_search:\n",
        "      #print('Number ',number_to_search,' found at ',index,' position')\n",
        "      count+=1\n",
        "\n",
        "print(count)"
      ]
    },
    {
      "cell_type": "markdown",
      "metadata": {
        "id": "ognEUJ_Fyojz"
      },
      "source": [
        "Check Prime Number"
      ]
    },
    {
      "cell_type": "code",
      "execution_count": null,
      "metadata": {
        "colab": {
          "base_uri": "https://localhost:8080/"
        },
        "id": "T-ik9nwYslcm",
        "outputId": "cd7d8905-637a-409c-aa73-9cad68da5647"
      },
      "outputs": [
        {
          "name": "stdout",
          "output_type": "stream",
          "text": [
            "CPU times: user 1.14 ms, sys: 1.03 ms, total: 2.17 ms\n",
            "Wall time: 2.13 ms\n"
          ]
        }
      ],
      "source": [
        "%%time\n",
        "arr_len=1000\n",
        "\n",
        "data=pymp.shared.array((arr_len,),dtype='uint8')\n",
        "res=pymp.shared.array((1,),dtype='uint8')\n",
        "\n",
        "def isPrime(n) :\n",
        "\tif (n <= 1) :\n",
        "\t\treturn False\n",
        "\tif (n <= 3) :\n",
        "\t\treturn True\n",
        "\tif (n % 2 == 0 or n % 3 == 0) :\n",
        "\t\treturn False\n",
        "\ti = 5\n",
        "\twhile(i * i <= n) :\n",
        "\t\tif (n % i == 0 or n % (i + 2) == 0) :\n",
        "\t\t\treturn False\n",
        "\t\ti = i + 6\n",
        "\n",
        "\treturn True\n",
        "\n",
        "def check_prime(arr):\n",
        "  res_s=[]\n",
        "  for i in arr:\n",
        "    if isPrime(i):\n",
        "      res_s.append(True)\n",
        "    else:\n",
        "      res_s.append(False)\n",
        "  return res_s\n",
        "\n",
        "\n",
        "\n",
        "\n",
        "res_seq=check_prime(data)"
      ]
    },
    {
      "cell_type": "code",
      "execution_count": null,
      "metadata": {
        "id": "DwoqDj0_yRxR"
      },
      "outputs": [],
      "source": [
        "\n",
        "\n",
        "for i in range(arr_len):\n",
        "  data[i]=random.randint(0,9)\n",
        "\n",
        "with pymp.Parallel(4) as p:\n",
        "  for index in p.range(arr_len):\n",
        "    if isPrime(data[index])==True:\n",
        "      res=np.append(res,np.array([True]))\n",
        "    else:\n",
        "      res=np.append(res,np.array([False]))"
      ]
    },
    {
      "cell_type": "markdown",
      "metadata": {
        "id": "KyfWNw2UziDP"
      },
      "source": [
        "Matrix Multiplication"
      ]
    },
    {
      "cell_type": "code",
      "execution_count": null,
      "metadata": {
        "id": "dR20iwpqzoi5"
      },
      "outputs": [],
      "source": [
        "\n",
        "size = 99\n",
        "mat1 = np.random.randint(1,100000,(size,size))\n",
        "mat2 = np.random.randint(1,100000,(size,size))\n",
        "\n",
        "\n",
        "res = [[0 for x in range(mat1.shape[0])] for y in range(mat2.shape[0])]\n",
        "\n",
        "for i in range(len(mat1)):\n",
        "    for j in range(len(mat2[0])):\n",
        "        for k in range(len(mat2)):\n",
        "\n",
        "            res[i][j] += mat1[i][k] * mat2[k][j]\n"
      ]
    },
    {
      "cell_type": "code",
      "execution_count": null,
      "metadata": {
        "colab": {
          "base_uri": "https://localhost:8080/"
        },
        "id": "w12wK3pfyeH7",
        "outputId": "bd9bdd89-d314-4eb3-ea58-664c9da01f47"
      },
      "outputs": [
        {
          "name": "stdout",
          "output_type": "stream",
          "text": [
            "For Outer Loop:  2.437717914581299\n",
            "For Inner Loop:  0.8155877590179443\n",
            "For All Loops:  0.20045828819274902\n",
            "(99, 99)\n"
          ]
        }
      ],
      "source": [
        "\n",
        "ex_array = pymp.shared.array((mat1.shape[0],mat1.shape[0]), dtype='uint8')\n",
        "\n",
        "start=time.time()\n",
        "#only for outer loop\n",
        "with pymp.Parallel(4) as p:\n",
        "  for i in p.range(len(mat1)):\n",
        "    for j in range(len(mat2[0])):\n",
        "      for k in range(len(mat2)):\n",
        "        ex_array[i][j]+= mat1[i][k] * mat2[k][j]\n",
        "print(\"For Outer Loop: \",time.time()-start)\n",
        "\n",
        "\n",
        "start=time.time()\n",
        "#only for inner loop\n",
        "with pymp.Parallel(4) as p:\n",
        "  for i in range(len(mat1)):\n",
        "    for j in p.range(len(mat2[0])):\n",
        "      for k in p.range(len(mat2)):\n",
        "        ex_array[i][j]+= mat1[i][k] * mat2[k][j]\n",
        "print(\"For Inner Loop: \",time.time()-start)\n",
        "\n",
        "\n",
        "#For all loops\n",
        "start=time.time()\n",
        "with pymp.Parallel(4) as p:\n",
        "  for i in p.range(len(mat1)):\n",
        "    for j in p.range(len(mat2[0])):\n",
        "      for k in p.range(len(mat2)):\n",
        "        ex_array[i][j]+= mat1[i][k] * mat2[k][j]\n",
        "print(\"For All Loops: \",time.time()-start)\n",
        "\n",
        "print(ex_array.shape)\n"
      ]
    },
    {
      "cell_type": "markdown",
      "metadata": {
        "id": "MmnWqG_x-PTr"
      },
      "source": [
        "Check Prime Number in PowerSet\n"
      ]
    },
    {
      "cell_type": "code",
      "execution_count": null,
      "metadata": {
        "id": "QZnnqfQDztyJ"
      },
      "outputs": [],
      "source": [
        "def powerset(s):\n",
        "  x = len(s)\n",
        "  p_list=[]\n",
        "  for i in range(1 << x):\n",
        "    p_list.append([s[j] for j in range(x) if (i & (1 << j))])\n",
        "  return p_list\n",
        "powerset_list=powerset([i for i in range(1,25)])\n"
      ]
    },
    {
      "cell_type": "code",
      "execution_count": null,
      "metadata": {
        "id": "c0gZ7XIw_CWZ"
      },
      "outputs": [],
      "source": [
        "def checkprime(arr):\n",
        "  arrsum=0\n",
        "  res=[]\n",
        "  for i in arr:\n",
        "      res.append(isprime(sum(i)))\n",
        "  return res\n"
      ]
    },
    {
      "cell_type": "code",
      "execution_count": null,
      "metadata": {
        "colab": {
          "base_uri": "https://localhost:8080/"
        },
        "id": "tOjRCYtB_OOT",
        "outputId": "12b2b1f6-a6bf-4fb1-d710-99bcde345e4f"
      },
      "outputs": [
        {
          "name": "stdout",
          "output_type": "stream",
          "text": [
            "Single process takes  12.445126056671143\n"
          ]
        }
      ],
      "source": [
        "start=time.time()\n",
        "single_process_res=checkprime(powerset_list)\n",
        "print('Single process takes ',time.time()-start)\n"
      ]
    },
    {
      "cell_type": "code",
      "execution_count": null,
      "metadata": {
        "colab": {
          "base_uri": "https://localhost:8080/"
        },
        "id": "wzngFe8J_MWS",
        "outputId": "6406d306-5b05-475d-9502-ecaf1cd49f5b"
      },
      "outputs": [
        {
          "name": "stdout",
          "output_type": "stream",
          "text": [
            "Parallel Process takes  0.14502286911010742\n",
            "[False, False, True, True, False, False, True, True, False, False, True, True, False, False, True, True]\n"
          ]
        }
      ],
      "source": [
        "len_list=len(powerset_list)\n",
        "ex_array = pymp.shared.array((1,), dtype='uint8')\n",
        "start=time.time()\n",
        "\n",
        "#complete the pymp parallel code here\n",
        "with pymp.Parallel(4) as p:\n",
        "  def powerset1(s):\n",
        "    x = len(s)\n",
        "    p_list=[]\n",
        "    for i in p.range(1 << x):\n",
        "      p_list.append([s[j] for j in p.range(x) if (i & (1 << j))])\n",
        "    return p_list\n",
        "  powerset_list1=powerset1([i for i in p.range(1,25)])\n",
        "  def checkprime1(arr):\n",
        "    arrsum=0\n",
        "    res=[]\n",
        "    for i in arr:\n",
        "      res.append(isprime(sum(i)))\n",
        "    return res\n",
        "  t=checkprime1(powerset_list1)\n",
        "print('Parallel Process takes ',time.time()-start)\n",
        "print(t)\n"
      ]
    },
    {
      "cell_type": "code",
      "execution_count": null,
      "metadata": {
        "id": "xj4GGR_WBUvX"
      },
      "outputs": [],
      "source": []
    }
  ],
  "metadata": {
    "colab": {
      "provenance": []
    },
    "kernelspec": {
      "display_name": "Python 3 (ipykernel)",
      "language": "python",
      "name": "python3"
    },
    "language_info": {
      "codemirror_mode": {
        "name": "ipython",
        "version": 3
      },
      "file_extension": ".py",
      "mimetype": "text/x-python",
      "name": "python",
      "nbconvert_exporter": "python",
      "pygments_lexer": "ipython3",
      "version": "3.9.7"
    }
  },
  "nbformat": 4,
  "nbformat_minor": 0
}

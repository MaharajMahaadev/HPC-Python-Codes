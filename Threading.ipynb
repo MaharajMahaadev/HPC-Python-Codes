{
  "cells": [
    {
      "cell_type": "code",
      "execution_count": null,
      "metadata": {
        "colab": {
          "base_uri": "https://localhost:8080/"
        },
        "id": "rtv7QZNTSf7C",
        "outputId": "3c1c626f-897f-4332-d46a-99b636093238"
      },
      "outputs": [
        {
          "name": "stdout",
          "output_type": "stream",
          "text": [
            "HPC is the study of high performance computing\n",
            "done\n",
            "HPC is the study of high performance computing\n",
            "done\n",
            "The time taken to execute is :10.01330852508545\n"
          ]
        }
      ],
      "source": [
        "from time import sleep,time\n",
        "def task():\n",
        "    print(\"HPC is the study of high performance computing\")\n",
        "    sleep(5)\n",
        "    print(\"done\")\n",
        "start = time()\n",
        "task()\n",
        "task()\n",
        "end = time()\n",
        "print(f'The time taken to execute is :{end-start}')"
      ]
    },
    {
      "cell_type": "code",
      "execution_count": null,
      "metadata": {
        "colab": {
          "base_uri": "https://localhost:8080/"
        },
        "id": "gFf785e-SkhN",
        "outputId": "96050bb4-84bc-4449-cb4d-1fbcdb4938a2"
      },
      "outputs": [
        {
          "name": "stdout",
          "output_type": "stream",
          "text": [
            "HPC is the study of high performance computing\n",
            "HPC is the study of high performance computing\n",
            "done\n",
            "done\n",
            "The time taken to execute is :5.0129618644714355\n"
          ]
        }
      ],
      "source": [
        "from threading import Thread\n",
        "t111 = Thread(target = task)\n",
        "t222 = Thread(target = task)\n",
        "start = time()\n",
        "t111.start()\n",
        "t222.start()\n",
        "t111.join()\n",
        "t222.join()\n",
        "end=time()\n",
        "print(f'The time taken to execute is :{end-start}')"
      ]
    },
    {
      "cell_type": "code",
      "execution_count": null,
      "metadata": {
        "colab": {
          "base_uri": "https://localhost:8080/"
        },
        "id": "srZ3oLI6SrK-",
        "outputId": "06188cb9-1b46-49d6-b8c8-c932300c772c"
      },
      "outputs": [
        {
          "name": "stdout",
          "output_type": "stream",
          "text": [
            "1\n",
            "2\n",
            "3\n",
            "4\n",
            "5\n",
            "2\n",
            "4\n",
            "6\n",
            "8\n",
            "10\n",
            "1\n",
            "4\n",
            "9\n",
            "16\n",
            "25\n",
            "The time taken to execute is :0.0006952285766601562\n"
          ]
        }
      ],
      "source": [
        "def num():\n",
        "  for i in range(1,6):\n",
        "    print(i)\n",
        "def dub():\n",
        "  for i in range(1,6):\n",
        "    print(i*2)\n",
        "def sq():\n",
        "  for i in range(1,6):\n",
        "    print(i*i)\n",
        "\n",
        "start = time()\n",
        "num()\n",
        "dub()\n",
        "sq()\n",
        "end = time()\n",
        "print(f'The time taken to execute is :{end-start}')"
      ]
    },
    {
      "cell_type": "code",
      "execution_count": null,
      "metadata": {
        "colab": {
          "base_uri": "https://localhost:8080/"
        },
        "id": "iFJxmo-VSuqP",
        "outputId": "9f8b1db4-2e35-4a0b-8d5f-dca12df3f6be"
      },
      "outputs": [
        {
          "name": "stdout",
          "output_type": "stream",
          "text": [
            "1\n",
            "2\n",
            "3\n",
            "4\n",
            "5\n",
            "2\n",
            "4\n",
            "6\n",
            "8\n",
            "10\n",
            "1\n",
            "4\n",
            "9\n",
            "16\n",
            "25\n",
            "The time taken to execute is :0.022378206253051758\n"
          ]
        }
      ],
      "source": [
        "t11 = Thread(target = num)\n",
        "t12 = Thread(target = dub)\n",
        "t13 = Thread(target = sq)\n",
        "start = time()\n",
        "t11.start()\n",
        "t12.start()\n",
        "t13.start()\n",
        "t11.join()\n",
        "t12.join()\n",
        "t13.join()\n",
        "end=time()\n",
        "print(f'The time taken to execute is :{end-start}')\n"
      ]
    },
    {
      "cell_type": "code",
      "execution_count": null,
      "metadata": {
        "colab": {
          "base_uri": "https://localhost:8080/"
        },
        "id": "smVIVc_8SxlR",
        "outputId": "8418993a-503e-417d-938d-cf338b3e76f7"
      },
      "outputs": [
        {
          "name": "stdout",
          "output_type": "stream",
          "text": [
            "[]\n"
          ]
        }
      ],
      "source": [
        "import os\n",
        "l=[]\n",
        "for file in os.listdir():\n",
        "    if file.endswith(\".txt\"):\n",
        "        l.append(file)\n",
        "print(l)\n",
        "\n",
        "def replace(filename, substr, new_substr):\n",
        "  print(f'Processing the file {filename}')\n",
        "  with open(filename,'r') as f:\n",
        "    content = f.read()\n",
        "    f.close()\n",
        "  content = content.replace (substr, new_substr)\n",
        "  with open (filename,'w') as f:\n",
        "    f.write(content)\n",
        "    f.close()"
      ]
    },
    {
      "cell_type": "code",
      "execution_count": null,
      "metadata": {
        "id": "Qq01idyCWsGy"
      },
      "outputs": [],
      "source": []
    }
  ],
  "metadata": {
    "colab": {
      "provenance": []
    },
    "kernelspec": {
      "display_name": "Python 3",
      "name": "python3"
    },
    "language_info": {
      "name": "python"
    }
  },
  "nbformat": 4,
  "nbformat_minor": 0
}

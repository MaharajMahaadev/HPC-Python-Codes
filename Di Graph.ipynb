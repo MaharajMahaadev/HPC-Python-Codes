{
  "cells": [
    {
      "cell_type": "code",
      "execution_count": null,
      "metadata": {
        "colab": {
          "base_uri": "https://localhost:8080/"
        },
        "id": "fGLBMIbShj3a",
        "outputId": "3cc7f379-2428-479e-ccab-fcb80b0bac79"
      },
      "outputs": [
        {
          "name": "stdout",
          "output_type": "stream",
          "text": [
            "Looking in indexes: https://pypi.org/simple, https://us-python.pkg.dev/colab-wheels/public/simple/\n",
            "Collecting pymp-pypi\n",
            "  Downloading pymp-pypi-0.5.0.tar.gz (12 kB)\n",
            "Building wheels for collected packages: pymp-pypi\n",
            "  Building wheel for pymp-pypi (setup.py) ... \u001b[?25l\u001b[?25hdone\n",
            "  Created wheel for pymp-pypi: filename=pymp_pypi-0.5.0-py3-none-any.whl size=10339 sha256=be3a42a4ba259d1b0ebbf206f3517e0d557327e92a37d93ae1cc85fdbf0949a6\n",
            "  Stored in directory: /root/.cache/pip/wheels/98/1d/32/d3b1174e02ae373cde389cd6fccc24c8f2530509b138282702\n",
            "Successfully built pymp-pypi\n",
            "Installing collected packages: pymp-pypi\n",
            "Successfully installed pymp-pypi-0.5.0\n"
          ]
        }
      ],
      "source": [
        "!pip install pymp-pypi\n"
      ]
    },
    {
      "cell_type": "code",
      "execution_count": null,
      "metadata": {
        "id": "FeTjQi7PYoUD"
      },
      "outputs": [],
      "source": [
        "import pandas as pd\n",
        "import numpy as np\n",
        "import matplotlib.pyplot as plt\n",
        "%matplotlib inline\n",
        "import pymp"
      ]
    },
    {
      "cell_type": "code",
      "execution_count": null,
      "metadata": {
        "colab": {
          "base_uri": "https://localhost:8080/",
          "height": 73
        },
        "id": "BuXqw5-Il_TY",
        "outputId": "5327996d-d37b-45aa-b37e-fd6f9bac8528"
      },
      "outputs": [
        {
          "data": {
            "text/html": [
              "\n",
              "     <input type=\"file\" id=\"files-86e4f3e1-6130-4c86-b66f-fb8abdbe380e\" name=\"files[]\" multiple disabled\n",
              "        style=\"border:none\" />\n",
              "     <output id=\"result-86e4f3e1-6130-4c86-b66f-fb8abdbe380e\">\n",
              "      Upload widget is only available when the cell has been executed in the\n",
              "      current browser session. Please rerun this cell to enable.\n",
              "      </output>\n",
              "      <script>// Copyright 2017 Google LLC\n",
              "//\n",
              "// Licensed under the Apache License, Version 2.0 (the \"License\");\n",
              "// you may not use this file except in compliance with the License.\n",
              "// You may obtain a copy of the License at\n",
              "//\n",
              "//      http://www.apache.org/licenses/LICENSE-2.0\n",
              "//\n",
              "// Unless required by applicable law or agreed to in writing, software\n",
              "// distributed under the License is distributed on an \"AS IS\" BASIS,\n",
              "// WITHOUT WARRANTIES OR CONDITIONS OF ANY KIND, either express or implied.\n",
              "// See the License for the specific language governing permissions and\n",
              "// limitations under the License.\n",
              "\n",
              "/**\n",
              " * @fileoverview Helpers for google.colab Python module.\n",
              " */\n",
              "(function(scope) {\n",
              "function span(text, styleAttributes = {}) {\n",
              "  const element = document.createElement('span');\n",
              "  element.textContent = text;\n",
              "  for (const key of Object.keys(styleAttributes)) {\n",
              "    element.style[key] = styleAttributes[key];\n",
              "  }\n",
              "  return element;\n",
              "}\n",
              "\n",
              "// Max number of bytes which will be uploaded at a time.\n",
              "const MAX_PAYLOAD_SIZE = 100 * 1024;\n",
              "\n",
              "function _uploadFiles(inputId, outputId) {\n",
              "  const steps = uploadFilesStep(inputId, outputId);\n",
              "  const outputElement = document.getElementById(outputId);\n",
              "  // Cache steps on the outputElement to make it available for the next call\n",
              "  // to uploadFilesContinue from Python.\n",
              "  outputElement.steps = steps;\n",
              "\n",
              "  return _uploadFilesContinue(outputId);\n",
              "}\n",
              "\n",
              "// This is roughly an async generator (not supported in the browser yet),\n",
              "// where there are multiple asynchronous steps and the Python side is going\n",
              "// to poll for completion of each step.\n",
              "// This uses a Promise to block the python side on completion of each step,\n",
              "// then passes the result of the previous step as the input to the next step.\n",
              "function _uploadFilesContinue(outputId) {\n",
              "  const outputElement = document.getElementById(outputId);\n",
              "  const steps = outputElement.steps;\n",
              "\n",
              "  const next = steps.next(outputElement.lastPromiseValue);\n",
              "  return Promise.resolve(next.value.promise).then((value) => {\n",
              "    // Cache the last promise value to make it available to the next\n",
              "    // step of the generator.\n",
              "    outputElement.lastPromiseValue = value;\n",
              "    return next.value.response;\n",
              "  });\n",
              "}\n",
              "\n",
              "/**\n",
              " * Generator function which is called between each async step of the upload\n",
              " * process.\n",
              " * @param {string} inputId Element ID of the input file picker element.\n",
              " * @param {string} outputId Element ID of the output display.\n",
              " * @return {!Iterable<!Object>} Iterable of next steps.\n",
              " */\n",
              "function* uploadFilesStep(inputId, outputId) {\n",
              "  const inputElement = document.getElementById(inputId);\n",
              "  inputElement.disabled = false;\n",
              "\n",
              "  const outputElement = document.getElementById(outputId);\n",
              "  outputElement.innerHTML = '';\n",
              "\n",
              "  const pickedPromise = new Promise((resolve) => {\n",
              "    inputElement.addEventListener('change', (e) => {\n",
              "      resolve(e.target.files);\n",
              "    });\n",
              "  });\n",
              "\n",
              "  const cancel = document.createElement('button');\n",
              "  inputElement.parentElement.appendChild(cancel);\n",
              "  cancel.textContent = 'Cancel upload';\n",
              "  const cancelPromise = new Promise((resolve) => {\n",
              "    cancel.onclick = () => {\n",
              "      resolve(null);\n",
              "    };\n",
              "  });\n",
              "\n",
              "  // Wait for the user to pick the files.\n",
              "  const files = yield {\n",
              "    promise: Promise.race([pickedPromise, cancelPromise]),\n",
              "    response: {\n",
              "      action: 'starting',\n",
              "    }\n",
              "  };\n",
              "\n",
              "  cancel.remove();\n",
              "\n",
              "  // Disable the input element since further picks are not allowed.\n",
              "  inputElement.disabled = true;\n",
              "\n",
              "  if (!files) {\n",
              "    return {\n",
              "      response: {\n",
              "        action: 'complete',\n",
              "      }\n",
              "    };\n",
              "  }\n",
              "\n",
              "  for (const file of files) {\n",
              "    const li = document.createElement('li');\n",
              "    li.append(span(file.name, {fontWeight: 'bold'}));\n",
              "    li.append(span(\n",
              "        `(${file.type || 'n/a'}) - ${file.size} bytes, ` +\n",
              "        `last modified: ${\n",
              "            file.lastModifiedDate ? file.lastModifiedDate.toLocaleDateString() :\n",
              "                                    'n/a'} - `));\n",
              "    const percent = span('0% done');\n",
              "    li.appendChild(percent);\n",
              "\n",
              "    outputElement.appendChild(li);\n",
              "\n",
              "    const fileDataPromise = new Promise((resolve) => {\n",
              "      const reader = new FileReader();\n",
              "      reader.onload = (e) => {\n",
              "        resolve(e.target.result);\n",
              "      };\n",
              "      reader.readAsArrayBuffer(file);\n",
              "    });\n",
              "    // Wait for the data to be ready.\n",
              "    let fileData = yield {\n",
              "      promise: fileDataPromise,\n",
              "      response: {\n",
              "        action: 'continue',\n",
              "      }\n",
              "    };\n",
              "\n",
              "    // Use a chunked sending to avoid message size limits. See b/62115660.\n",
              "    let position = 0;\n",
              "    do {\n",
              "      const length = Math.min(fileData.byteLength - position, MAX_PAYLOAD_SIZE);\n",
              "      const chunk = new Uint8Array(fileData, position, length);\n",
              "      position += length;\n",
              "\n",
              "      const base64 = btoa(String.fromCharCode.apply(null, chunk));\n",
              "      yield {\n",
              "        response: {\n",
              "          action: 'append',\n",
              "          file: file.name,\n",
              "          data: base64,\n",
              "        },\n",
              "      };\n",
              "\n",
              "      let percentDone = fileData.byteLength === 0 ?\n",
              "          100 :\n",
              "          Math.round((position / fileData.byteLength) * 100);\n",
              "      percent.textContent = `${percentDone}% done`;\n",
              "\n",
              "    } while (position < fileData.byteLength);\n",
              "  }\n",
              "\n",
              "  // All done.\n",
              "  yield {\n",
              "    response: {\n",
              "      action: 'complete',\n",
              "    }\n",
              "  };\n",
              "}\n",
              "\n",
              "scope.google = scope.google || {};\n",
              "scope.google.colab = scope.google.colab || {};\n",
              "scope.google.colab._files = {\n",
              "  _uploadFiles,\n",
              "  _uploadFilesContinue,\n",
              "};\n",
              "})(self);\n",
              "</script> "
            ],
            "text/plain": [
              "<IPython.core.display.HTML object>"
            ]
          },
          "metadata": {},
          "output_type": "display_data"
        },
        {
          "name": "stdout",
          "output_type": "stream",
          "text": [
            "Saving web-Google.txt.gz to web-Google.txt.gz\n"
          ]
        }
      ],
      "source": [
        "from google.colab import files\n",
        "uploaded = files.upload()"
      ]
    },
    {
      "cell_type": "code",
      "execution_count": null,
      "metadata": {
        "id": "CmnA3j5x0xyQ"
      },
      "outputs": [],
      "source": [
        "import gzip\n",
        "import shutil\n",
        "with gzip.open('/content/web-Google.txt.gz', 'rb') as f_in:\n",
        "    with open('file.txt', 'wb') as f_out:\n",
        "        shutil.copyfileobj(f_in, f_out)"
      ]
    },
    {
      "cell_type": "code",
      "execution_count": null,
      "metadata": {
        "colab": {
          "base_uri": "https://localhost:8080/"
        },
        "id": "sZ7lEFcEYxGk",
        "outputId": "692176b0-1cd1-4030-b05d-536ca87af47f"
      },
      "outputs": [
        {
          "name": "stdout",
          "output_type": "stream",
          "text": [
            "DiGraph with 875713 nodes and 5105039 edges\n"
          ]
        }
      ],
      "source": [
        "import networkx as nx\n",
        "\n",
        "G_tmp = nx.read_edgelist('/content/file.txt', create_using = nx.DiGraph)\n",
        "print(nx.info(G_tmp))"
      ]
    },
    {
      "cell_type": "code",
      "execution_count": null,
      "metadata": {
        "colab": {
          "base_uri": "https://localhost:8080/"
        },
        "id": "Xj3I520qZfZo",
        "outputId": "da99c3f5-16b4-428f-f3c3-534734bf7fcf"
      },
      "outputs": [
        {
          "name": "stdout",
          "output_type": "stream",
          "text": [
            "DiGraph with 855802 nodes and 5066842 edges\n"
          ]
        }
      ],
      "source": [
        "c = sorted(nx.weakly_connected_components(G_tmp), key=len, reverse=True)\n",
        "wcc_set = c[0]\n",
        "G = G_tmp.subgraph(wcc_set)\n",
        "print(nx.info(G))"
      ]
    },
    {
      "cell_type": "code",
      "execution_count": null,
      "metadata": {
        "colab": {
          "base_uri": "https://localhost:8080/"
        },
        "id": "yh8D47RvZzaP",
        "outputId": "fe890576-538a-4ecd-e554-20bcf2eb4537"
      },
      "outputs": [
        {
          "name": "stdout",
          "output_type": "stream",
          "text": [
            "<class 'scipy.sparse.csr.csr_matrix'>\n"
          ]
        }
      ],
      "source": [
        "tele_p = 0.15\n",
        "A = nx.adjacency_matrix(G)\n",
        "A = A.T\n",
        "\n",
        "n = A.shape[0]\n",
        "A = A.tocsr()\n",
        "print(type(A))\n",
        "A = A.astype('float64')\n",
        "\n",
        "# A = np.array(A, dtype = 'float64')\n",
        "\n",
        "out_degrees = np.array([G.out_degree[x] for x in list(G.nodes)], dtype='float64')\n",
        "A.data *= (1-tele_p) / np.take(out_degrees, A.indices)\n",
        "# A.data /= np.take(out_degrees, A.indices)"
      ]
    },
    {
      "cell_type": "code",
      "execution_count": null,
      "metadata": {
        "colab": {
          "base_uri": "https://localhost:8080/"
        },
        "id": "41UXu9UVaGgC",
        "outputId": "6232efc1-ef29-474b-a562-8594d377feac"
      },
      "outputs": [
        {
          "name": "stdout",
          "output_type": "stream",
          "text": [
            "part of my result\n",
            " [3.64705701e-05 3.79228355e-05 8.65459111e-06 3.84303158e-05\n",
            " 3.71368858e-05 7.18387504e-06 1.08754748e-05 3.38817839e-06\n",
            " 3.93632510e-06 3.93632510e-06 4.89127502e-06 2.72410296e-06\n",
            " 2.84383173e-06 3.03017014e-06 8.03988628e-06 3.36158727e-06\n",
            " 1.03354893e-06 1.40558986e-04 3.27626883e-04 7.48129577e-06\n",
            " 7.28870966e-06 1.03969881e-06 4.90884656e-06 4.59075507e-06\n",
            " 3.58446230e-06 6.74313229e-06 3.80842318e-06 3.32648748e-06\n",
            " 1.49044403e-05 3.55707200e-06 3.52658037e-06 3.52658037e-06\n",
            " 3.52658037e-06 4.52032223e-06 2.30537555e-06 9.70917221e-06\n",
            " 1.22010316e-05 3.31036020e-04 9.34368558e-06 9.22117384e-06\n",
            " 9.50054616e-06 9.58088277e-06 9.55104543e-06 9.39608572e-06\n",
            " 9.44656859e-06 1.88049081e-06 1.87682800e-06 2.00320673e-06\n",
            " 5.09908899e-06 1.87682800e-06]\n",
            "CPU times: user 1.02 s, sys: 13.7 ms, total: 1.03 s\n",
            "Wall time: 1.02 s\n"
          ]
        }
      ],
      "source": [
        "%%time\n",
        "r =  np.ones((n,1))\n",
        "error = 1\n",
        "for _ in range(50):\n",
        "#     if _ % 100 == 0:\n",
        "#         print(\"iter\", _)\n",
        "    r_new = A @ r\n",
        "    r_new += np.sum(r) * tele_p / n\n",
        "#     r_new /= np.sum(r_new)\n",
        "    error = np.sum(np.absolute(r - r_new))\n",
        "    r = r_new\n",
        "    if error < 1e-6:\n",
        "        break\n",
        "\n",
        "r /= np.sum(r)\n",
        "r = r.reshape(n)\n",
        "\n",
        "\n",
        "print(\"part of my result\\n\", r[:50])"
      ]
    },
    {
      "cell_type": "code",
      "execution_count": null,
      "metadata": {
        "colab": {
          "base_uri": "https://localhost:8080/"
        },
        "id": "tPaeUL0YaNtu",
        "outputId": "e85bddf2-fcc7-4cbb-b2fb-d3a8098c7f4c"
      },
      "outputs": [
        {
          "name": "stdout",
          "output_type": "stream",
          "text": [
            "part of networkx's result\n",
            " [2.83545918e-05 3.17140006e-05 7.15313456e-06 3.18433656e-05\n",
            " 3.10020184e-05 5.45502590e-06 1.15575220e-05 3.07694855e-06\n",
            " 2.69228185e-06 2.69228185e-06 5.17349351e-06 2.05934593e-06\n",
            " 2.08156160e-06 2.34779737e-06 6.11384378e-06 2.47537605e-06\n",
            " 5.87459196e-07 1.75093821e-04 3.71590743e-04 7.08537651e-06\n",
            " 3.70897411e-06 5.91671476e-07 3.97260442e-06 3.61127278e-06\n",
            " 2.75852433e-06 5.65562148e-06 2.81977746e-06 2.43426924e-06\n",
            " 1.10552532e-05 2.81129815e-06 2.76713990e-06 2.76713990e-06\n",
            " 2.76713990e-06 4.60586095e-06 1.94053971e-06 7.50825438e-06\n",
            " 8.07304360e-06 3.13681305e-04 7.21791541e-06 7.11620490e-06\n",
            " 7.40872488e-06 7.88138455e-06 7.44274097e-06 7.26072719e-06\n",
            " 7.49145206e-06 1.62834003e-06 1.61519245e-06 1.81694650e-06\n",
            " 3.22474052e-06 1.61519245e-06]\n"
          ]
        }
      ],
      "source": [
        "truth = nx.pagerank(G, alpha=0.85, max_iter = 100)\n",
        "truth = np.array(list(truth.values()), dtype='float64')\n",
        "print(\"part of networkx's result\\n\",truth[:50])"
      ]
    },
    {
      "cell_type": "code",
      "execution_count": null,
      "metadata": {
        "colab": {
          "base_uri": "https://localhost:8080/"
        },
        "id": "7W1z70QKaz7D",
        "outputId": "bedc0b2c-9c2d-4a2b-f1aa-d52b26849ae9"
      },
      "outputs": [
        {
          "name": "stdout",
          "output_type": "stream",
          "text": [
            "part of my result\n",
            "part of my result\n",
            "part of my result\n",
            "  [3.81744014e-05 3.96893451e-05 9.08553224e-06 4.02198517e-05\n",
            " 3.88551842e-05 7.51398079e-06 1.13312208e-05 3.54385345e-06\n",
            " 4.13151742e-06 4.13151742e-06 5.07782472e-06 2.85834932e-06\n",
            " 2.98523312e-06 3.17950951e-06 8.44377842e-06 3.52849595e-06\n",
            " 1.07688616e-06 1.45592772e-04 3.39753909e-04 7.80484605e-06\n",
            " 7.66762886e-06 1.08332312e-06 5.15304913e-06 4.81523940e-06\n",
            " 3.76235344e-06 7.05585124e-06 3.99966327e-06 3.49354376e-06\n",
            " 1.56504770e-05 3.73238429e-06 3.70224337e-06 3.70224337e-06\n",
            " 3.70224337e-06 4.70868168e-06 2.37020085e-06 9.98019379e-06\n",
            " 1.25822327e-05 3.41127512e-04 9.60382525e-06 9.47767356e-06\n",
            " 9.76265829e-06 9.84493237e-06 9.81898785e-06 9.65778346e-06\n",
            " 9.70758877e-06 1.93364728e-06 1.92883275e-06 2.06032793e-06\n",
            " 5.26402749e-06 1.92883275e-06] \n",
            "[3.81744014e-05 3.96893451e-05 9.08553224e-06 4.02198517e-05\n",
            " 3.88551842e-05 7.51398079e-06 1.13312208e-05 3.54385345e-06\n",
            " 4.13151742e-06 4.13151742e-06 5.07782472e-06 2.85834932e-06\n",
            " 2.98523312e-06 3.17950951e-06 8.44377842e-06 3.52849595e-06\n",
            " 1.07688616e-06 1.45592772e-04 3.39753909e-04 7.80484605e-06\n",
            " 7.66762886e-06 1.08332312e-06 5.15304913e-06 4.81523940e-06\n",
            " 3.76235344e-06 7.05585124e-06 3.99966327e-06 3.49354376e-06\n",
            " 1.56504770e-05 3.73238429e-06 3.70224337e-06 3.70224337e-06\n",
            " 3.70224337e-06 4.70868168e-06 2.37020085e-06 9.98019379e-06\n",
            " 1.25822327e-05 3.41127512e-04 9.60382525e-06 9.47767356e-06\n",
            " 9.76265829e-06 9.84493237e-06 9.81898785e-06 9.65778346e-06\n",
            " 9.70758877e-06 1.93364728e-06 1.92883275e-06 2.06032793e-06\n",
            " 5.26402749e-06 1.92883275e-06][3.79786242e-05 3.94972841e-05 9.04055140e-06 4.00254440e-05\n",
            " 3.86680330e-05 7.48135326e-06 1.12637898e-05 3.52824089e-06\n",
            " 4.11125723e-06 4.11125723e-06 5.05677322e-06 2.84499273e-06\n",
            " 2.97114747e-06 3.16378109e-06 8.40258202e-06 3.51111953e-06\n",
            " 1.07255760e-06 1.44647402e-04 3.37950158e-04 7.76532153e-06\n",
            " 7.61627569e-06 1.07896998e-06 5.12615751e-06 4.79194902e-06\n",
            " 3.74388641e-06 7.02213252e-06 3.97967402e-06 3.47686401e-06\n",
            " 1.55671761e-05 3.71484522e-06 3.68466830e-06 3.68466830e-06\n",
            " 3.68466830e-06 4.68970651e-06 2.36784315e-06 9.96683126e-06\n",
            " 1.25566027e-05 3.39930423e-04 9.59081333e-06 9.46478358e-06\n",
            " 9.74947150e-06 9.83123616e-06 9.80486275e-06 9.64472005e-06\n",
            " 9.69419862e-06 1.93114035e-06 1.92687020e-06 2.05719687e-06\n",
            " 5.25366251e-06 1.92687020e-06]\n",
            "\n",
            "part of my result\n",
            " [3.79786242e-05 3.94972841e-05 9.04055140e-06 4.00254440e-05\n",
            " 3.86680330e-05 7.48135326e-06 1.12637898e-05 3.52824089e-06\n",
            " 4.11125723e-06 4.11125723e-06 5.05677322e-06 2.84499273e-06\n",
            " 2.97114747e-06 3.16378109e-06 8.40258202e-06 3.51111953e-06\n",
            " 1.07255760e-06 1.44647402e-04 3.37950158e-04 7.76532153e-06\n",
            " 7.61627569e-06 1.07896998e-06 5.12615751e-06 4.79194902e-06\n",
            " 3.74388641e-06 7.02213252e-06 3.97967402e-06 3.47686401e-06\n",
            " 1.55671761e-05 3.71484522e-06 3.68466830e-06 3.68466830e-06\n",
            " 3.68466830e-06 4.68970651e-06 2.36784315e-06 9.96683126e-06\n",
            " 1.25566027e-05 3.39930423e-04 9.59081333e-06 9.46478358e-06\n",
            " 9.74947150e-06 9.83123616e-06 9.80486275e-06 9.64472005e-06\n",
            " 9.69419862e-06 1.93114035e-06 1.92687020e-06 2.05719687e-06\n",
            " 5.25366251e-06 1.92687020e-06]\n",
            "CPU times: user 560 ms, sys: 230 ms, total: 789 ms\n",
            "Wall time: 1.39 s\n"
          ]
        }
      ],
      "source": [
        "%%time\n",
        "r =  np.ones((n,1))\n",
        "error = 1\n",
        "with pymp.Parallel(4) as p:\n",
        "\n",
        "    for _ in p.range(50):\n",
        "\n",
        "        r_new = A @ r\n",
        "        r_new += np.sum(r) * tele_p / n\n",
        "\n",
        "        error = np.sum(np.absolute(r - r_new))\n",
        "        r = r_new\n",
        "        if error < 1e-6:\n",
        "            break\n",
        "\n",
        "    r /= np.sum(r)\n",
        "    r = r.reshape(n)\n",
        "\n",
        "    print(\"part of my result\\n\", r[:50])"
      ]
    },
    {
      "cell_type": "code",
      "execution_count": null,
      "metadata": {
        "colab": {
          "base_uri": "https://localhost:8080/",
          "height": 1000
        },
        "id": "0zNOQPlKix28",
        "outputId": "1fad3de2-65a8-452c-ef6b-df03ef390b22"
      },
      "outputs": [
        {
          "name": "stdout",
          "output_type": "stream",
          "text": [
            "Looking in indexes: https://pypi.org/simple, https://us-python.pkg.dev/colab-wheels/public/simple/\n",
            "Collecting pymp\n",
            "  Downloading pymp-0.0.6.tar.gz (10.7 MB)\n",
            "\u001b[K     |████████████████████████████████| 10.7 MB 39.3 MB/s \n",
            "\u001b[?25hRequirement already satisfied: numpy>=1.16.3 in /usr/local/lib/python3.8/dist-packages (from pymp) (1.21.6)\n",
            "Requirement already satisfied: scipy>=1.3.0 in /usr/local/lib/python3.8/dist-packages (from pymp) (1.7.3)\n",
            "Requirement already satisfied: pandas>=0.25.0 in /usr/local/lib/python3.8/dist-packages (from pymp) (1.3.5)\n",
            "Requirement already satisfied: numba>=0.48.0 in /usr/local/lib/python3.8/dist-packages (from pymp) (0.56.4)\n",
            "Requirement already satisfied: param>=1.12.0 in /usr/local/lib/python3.8/dist-packages (from pymp) (1.12.2)\n",
            "Collecting panel>=0.13.1\n",
            "  Downloading panel-0.14.1-py2.py3-none-any.whl (17.3 MB)\n",
            "\u001b[K     |████████████████████████████████| 17.3 MB 20.2 MB/s \n",
            "\u001b[?25hRequirement already satisfied: pytest in /usr/local/lib/python3.8/dist-packages (from pymp) (3.6.4)\n",
            "Requirement already satisfied: importlib-metadata in /usr/local/lib/python3.8/dist-packages (from numba>=0.48.0->pymp) (4.13.0)\n",
            "Requirement already satisfied: setuptools in /usr/local/lib/python3.8/dist-packages (from numba>=0.48.0->pymp) (57.4.0)\n",
            "Requirement already satisfied: llvmlite<0.40,>=0.39.0dev0 in /usr/local/lib/python3.8/dist-packages (from numba>=0.48.0->pymp) (0.39.1)\n",
            "Requirement already satisfied: python-dateutil>=2.7.3 in /usr/local/lib/python3.8/dist-packages (from pandas>=0.25.0->pymp) (2.8.2)\n",
            "Requirement already satisfied: pytz>=2017.3 in /usr/local/lib/python3.8/dist-packages (from pandas>=0.25.0->pymp) (2022.6)\n",
            "Requirement already satisfied: pyct>=0.4.4 in /usr/local/lib/python3.8/dist-packages (from panel>=0.13.1->pymp) (0.4.8)\n",
            "Requirement already satisfied: requests in /usr/local/lib/python3.8/dist-packages (from panel>=0.13.1->pymp) (2.23.0)\n",
            "Collecting bokeh<2.5.0,>=2.4.0\n",
            "  Downloading bokeh-2.4.3-py3-none-any.whl (18.5 MB)\n",
            "\u001b[K     |████████████████████████████████| 18.5 MB 164 kB/s \n",
            "\u001b[?25hRequirement already satisfied: tqdm>=4.48.0 in /usr/local/lib/python3.8/dist-packages (from panel>=0.13.1->pymp) (4.64.1)\n",
            "Requirement already satisfied: markdown in /usr/local/lib/python3.8/dist-packages (from panel>=0.13.1->pymp) (3.4.1)\n",
            "Requirement already satisfied: pyviz-comms>=0.7.4 in /usr/local/lib/python3.8/dist-packages (from panel>=0.13.1->pymp) (2.2.1)\n",
            "Requirement already satisfied: typing-extensions in /usr/local/lib/python3.8/dist-packages (from panel>=0.13.1->pymp) (4.1.1)\n",
            "Requirement already satisfied: bleach in /usr/local/lib/python3.8/dist-packages (from panel>=0.13.1->pymp) (5.0.1)\n",
            "Requirement already satisfied: Jinja2>=2.9 in /usr/local/lib/python3.8/dist-packages (from bokeh<2.5.0,>=2.4.0->panel>=0.13.1->pymp) (2.11.3)\n",
            "Requirement already satisfied: tornado>=5.1 in /usr/local/lib/python3.8/dist-packages (from bokeh<2.5.0,>=2.4.0->panel>=0.13.1->pymp) (6.0.4)\n",
            "Requirement already satisfied: pillow>=7.1.0 in /usr/local/lib/python3.8/dist-packages (from bokeh<2.5.0,>=2.4.0->panel>=0.13.1->pymp) (7.1.2)\n",
            "Requirement already satisfied: packaging>=16.8 in /usr/local/lib/python3.8/dist-packages (from bokeh<2.5.0,>=2.4.0->panel>=0.13.1->pymp) (21.3)\n",
            "Requirement already satisfied: PyYAML>=3.10 in /usr/local/lib/python3.8/dist-packages (from bokeh<2.5.0,>=2.4.0->panel>=0.13.1->pymp) (6.0)\n",
            "Requirement already satisfied: MarkupSafe>=0.23 in /usr/local/lib/python3.8/dist-packages (from Jinja2>=2.9->bokeh<2.5.0,>=2.4.0->panel>=0.13.1->pymp) (2.0.1)\n",
            "Requirement already satisfied: pyparsing!=3.0.5,>=2.0.2 in /usr/local/lib/python3.8/dist-packages (from packaging>=16.8->bokeh<2.5.0,>=2.4.0->panel>=0.13.1->pymp) (3.0.9)\n",
            "Requirement already satisfied: six>=1.5 in /usr/local/lib/python3.8/dist-packages (from python-dateutil>=2.7.3->pandas>=0.25.0->pymp) (1.15.0)\n",
            "Requirement already satisfied: webencodings in /usr/local/lib/python3.8/dist-packages (from bleach->panel>=0.13.1->pymp) (0.5.1)\n",
            "Requirement already satisfied: zipp>=0.5 in /usr/local/lib/python3.8/dist-packages (from importlib-metadata->numba>=0.48.0->pymp) (3.10.0)\n",
            "Requirement already satisfied: more-itertools>=4.0.0 in /usr/local/lib/python3.8/dist-packages (from pytest->pymp) (9.0.0)\n",
            "Requirement already satisfied: pluggy<0.8,>=0.5 in /usr/local/lib/python3.8/dist-packages (from pytest->pymp) (0.7.1)\n",
            "Requirement already satisfied: atomicwrites>=1.0 in /usr/local/lib/python3.8/dist-packages (from pytest->pymp) (1.4.1)\n",
            "Requirement already satisfied: attrs>=17.4.0 in /usr/local/lib/python3.8/dist-packages (from pytest->pymp) (22.1.0)\n",
            "Requirement already satisfied: py>=1.5.0 in /usr/local/lib/python3.8/dist-packages (from pytest->pymp) (1.11.0)\n",
            "Requirement already satisfied: certifi>=2017.4.17 in /usr/local/lib/python3.8/dist-packages (from requests->panel>=0.13.1->pymp) (2022.9.24)\n",
            "Requirement already satisfied: idna<3,>=2.5 in /usr/local/lib/python3.8/dist-packages (from requests->panel>=0.13.1->pymp) (2.10)\n",
            "Requirement already satisfied: chardet<4,>=3.0.2 in /usr/local/lib/python3.8/dist-packages (from requests->panel>=0.13.1->pymp) (3.0.4)\n",
            "Requirement already satisfied: urllib3!=1.25.0,!=1.25.1,<1.26,>=1.21.1 in /usr/local/lib/python3.8/dist-packages (from requests->panel>=0.13.1->pymp) (1.24.3)\n",
            "Building wheels for collected packages: pymp\n",
            "  Building wheel for pymp (setup.py) ... \u001b[?25l\u001b[?25hdone\n",
            "  Created wheel for pymp: filename=pymp-0.0.6-py3-none-any.whl size=10732656 sha256=db2432935a723c92bfd74753f804ca38ecef9b7f9832f5cccb79044c6e1c2df5\n",
            "  Stored in directory: /root/.cache/pip/wheels/e3/c0/f4/b490b163052ba2baa955f8a177e611b72cdd9a3028facfdc86\n",
            "Successfully built pymp\n",
            "Installing collected packages: bokeh, panel, pymp\n",
            "  Attempting uninstall: bokeh\n",
            "    Found existing installation: bokeh 2.3.3\n",
            "    Uninstalling bokeh-2.3.3:\n",
            "      Successfully uninstalled bokeh-2.3.3\n",
            "  Attempting uninstall: panel\n",
            "    Found existing installation: panel 0.12.1\n",
            "    Uninstalling panel-0.12.1:\n",
            "      Successfully uninstalled panel-0.12.1\n",
            "Successfully installed bokeh-2.4.3 panel-0.14.1 pymp-0.0.6\n"
          ]
        },
        {
          "data": {
            "application/vnd.colab-display-data+json": {
              "pip_warning": {
                "packages": [
                  "pymp"
                ]
              }
            }
          },
          "metadata": {},
          "output_type": "display_data"
        }
      ],
      "source": [
        "!pip install pymp"
      ]
    },
    {
      "cell_type": "code",
      "execution_count": null,
      "metadata": {
        "colab": {
          "base_uri": "https://localhost:8080/"
        },
        "id": "WVXlFYyXyOql",
        "outputId": "0b90f4d5-69c1-4f2c-cd22-4f52f7d3c008"
      },
      "outputs": [
        {
          "name": "stdout",
          "output_type": "stream",
          "text": [
            "part of my result\n",
            " [3.64631200e-05 3.79148977e-05 8.65254646e-06 3.84222598e-05\n",
            " 3.71291484e-05 7.18235005e-06 1.08737820e-05 3.38745041e-06\n",
            " 3.93542327e-06 3.93542327e-06 4.89030713e-06 2.72347681e-06\n",
            " 2.84317175e-06 3.02949457e-06 8.03802726e-06 3.36082553e-06\n",
            " 1.03333572e-06 1.40538665e-04 3.27574613e-04 7.47987236e-06\n",
            " 7.28727277e-06 1.03948413e-06 4.90779352e-06 4.58973203e-06\n",
            " 3.58364975e-06 6.74176067e-06 3.80755620e-06 3.32570975e-06\n",
            " 1.49012665e-05 3.55625401e-06 3.52576121e-06 3.52576121e-06\n",
            " 3.52576121e-06 4.51944096e-06 2.30479511e-06 9.70688504e-06\n",
            " 1.21980914e-05 3.30972264e-04 9.34149806e-06 9.21901946e-06\n",
            " 9.49834322e-06 9.57868071e-06 9.54882022e-06 9.39388398e-06\n",
            " 9.44438702e-06 1.88003632e-06 1.87636568e-06 2.00273775e-06\n",
            " 5.09777845e-06 1.87636568e-06]\n"
          ]
        }
      ],
      "source": [
        "r =  np.ones((n,1))\n",
        "error = 1\n",
        "for _ in range(100):\n",
        "#     if _ % 100 == 0:\n",
        "#         print(\"iter\", _)\n",
        "    r_new = A @ r\n",
        "    r_new += np.sum(r) * tele_p / n\n",
        "#     r_new /= np.sum(r_new)\n",
        "    error = np.sum(np.absolute(r - r_new))\n",
        "    r = r_new\n",
        "    if error < 1e-6:\n",
        "        break\n",
        "\n",
        "r /= np.sum(r)\n",
        "r = r.reshape(n)\n",
        "\n",
        "print(\"part of my result\\n\", r[:50])"
      ]
    },
    {
      "cell_type": "code",
      "execution_count": null,
      "metadata": {
        "id": "a0EBH2hiyQhZ"
      },
      "outputs": [],
      "source": [
        "import pymp"
      ]
    },
    {
      "cell_type": "code",
      "execution_count": null,
      "metadata": {
        "id": "jNfma1AOyR6O"
      },
      "outputs": [],
      "source": [
        "from __future__ import print_function"
      ]
    },
    {
      "cell_type": "code",
      "execution_count": null,
      "metadata": {
        "id": "aAsKZlR3yTCx"
      },
      "outputs": [],
      "source": [
        "#pip install --upgrade pymp-pypi"
      ]
    },
    {
      "cell_type": "code",
      "execution_count": null,
      "metadata": {
        "colab": {
          "base_uri": "https://localhost:8080/"
        },
        "id": "CLaL76wLyUPu",
        "outputId": "84ae485f-3f86-4646-ecc8-377e9d48d7aa"
      },
      "outputs": [
        {
          "name": "stdout",
          "output_type": "stream",
          "text": [
            "part of my result\n",
            " [3.64631200e-05 3.79148977e-05 8.65254646e-06 3.84222598e-05\n",
            " 3.71291484e-05 7.18235005e-06 1.08737820e-05 3.38745041e-06\n",
            " 3.93542327e-06 3.93542327e-06 4.89030713e-06 2.72347681e-06\n",
            " 2.84317175e-06 3.02949457e-06 8.03802726e-06 3.36082553e-06\n",
            " 1.03333572e-06 1.40538665e-04 3.27574613e-04 7.47987236e-06\n",
            " 7.28727277e-06 1.03948413e-06 4.90779352e-06 4.58973203e-06\n",
            " 3.58364975e-06 6.74176067e-06 3.80755620e-06 3.32570975e-06\n",
            " 1.49012665e-05 3.55625401e-06 3.52576121e-06 3.52576121e-06\n",
            " 3.52576121e-06 4.51944096e-06 2.30479511e-06 9.70688504e-06\n",
            " 1.21980914e-05 3.30972264e-04 9.34149806e-06 9.21901946e-06\n",
            " 9.49834322e-06 9.57868071e-06 9.54882022e-06 9.39388398e-06\n",
            " 9.44438702e-06 1.88003632e-06 1.87636568e-06 2.00273775e-06\n",
            " 5.09777845e-06 1.87636568e-06]\n"
          ]
        }
      ],
      "source": [
        "\n",
        "r = np.ones((n,1))\n",
        "error = 1\n",
        "with pymp.Parallel(4) as p:\n",
        "  for _ in range(100):\n",
        "#     if _ % 100 == 0:\n",
        "#         print(\"iter\", _)\n",
        "    r_new = A @ r\n",
        "    r_new += np.sum(r) * tele_p / n\n",
        "#     r_new /= np.sum(r_new)\n",
        "    error = np.sum(np.absolute(r - r_new))\n",
        "    r = r_new\n",
        "    if error < 1e-6:\n",
        "        break\n",
        "\n",
        "r /= np.sum(r)\n",
        "r = r.reshape(n)\n",
        "\n",
        "print(\"part of my result\\n\", r[:50])"
      ]
    },
    {
      "cell_type": "code",
      "execution_count": null,
      "metadata": {
        "id": "syyH3JexyVyj"
      },
      "outputs": [],
      "source": [
        "m=max(r)"
      ]
    },
    {
      "cell_type": "code",
      "execution_count": null,
      "metadata": {
        "id": "Y1E3B_rAyXk9"
      },
      "outputs": [],
      "source": [
        "t=min(r)"
      ]
    },
    {
      "cell_type": "code",
      "execution_count": null,
      "metadata": {
        "id": "VWHf1bHwyXix"
      },
      "outputs": [],
      "source": [
        "k=sum(r)/len(r)"
      ]
    },
    {
      "cell_type": "code",
      "execution_count": null,
      "metadata": {
        "colab": {
          "base_uri": "https://localhost:8080/"
        },
        "id": "UNlsHnl_yXgc",
        "outputId": "1127256e-b217-4aa7-8c40-5eee8426b9e3"
      },
      "outputs": [
        {
          "data": {
            "text/plain": [
              "(array([2135]),)"
            ]
          },
          "execution_count": 20,
          "metadata": {},
          "output_type": "execute_result"
        }
      ],
      "source": [
        "np.where(r==m)"
      ]
    },
    {
      "cell_type": "code",
      "execution_count": null,
      "metadata": {
        "colab": {
          "base_uri": "https://localhost:8080/"
        },
        "id": "xX8U39pYyXd6",
        "outputId": "5e08a1d7-d9d2-4ade-cb7d-2f21b1763cf1"
      },
      "outputs": [
        {
          "data": {
            "text/plain": [
              "(array([   249,    431,    633, ..., 855799, 855800, 855801]),)"
            ]
          },
          "execution_count": 21,
          "metadata": {},
          "output_type": "execute_result"
        }
      ],
      "source": [
        "np.where(r==t)"
      ]
    },
    {
      "cell_type": "code",
      "execution_count": null,
      "metadata": {
        "colab": {
          "base_uri": "https://localhost:8080/"
        },
        "id": "LOIbbVgcycTm",
        "outputId": "90c65395-e676-4223-bb76-7e633e37ef97"
      },
      "outputs": [
        {
          "data": {
            "text/plain": [
              "(array([], dtype=int64),)"
            ]
          },
          "execution_count": 22,
          "metadata": {},
          "output_type": "execute_result"
        }
      ],
      "source": [
        "np.where(r==k)"
      ]
    },
    {
      "cell_type": "code",
      "execution_count": null,
      "metadata": {
        "id": "bQSXM84XywCO"
      },
      "outputs": [],
      "source": []
    }
  ],
  "metadata": {
    "accelerator": "GPU",
    "colab": {
      "provenance": []
    },
    "gpuClass": "standard",
    "kernelspec": {
      "display_name": "Python 3",
      "name": "python3"
    },
    "language_info": {
      "name": "python"
    }
  },
  "nbformat": 4,
  "nbformat_minor": 0
}

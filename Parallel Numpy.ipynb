{
  "nbformat": 4,
  "nbformat_minor": 0,
  "metadata": {
    "colab": {
      "provenance": []
    },
    "kernelspec": {
      "name": "python3",
      "display_name": "Python 3"
    },
    "accelerator": "GPU",
    "gpuClass": "standard"
  },
  "cells": [
    {
      "cell_type": "code",
      "metadata": {
        "colab": {
          "base_uri": "https://localhost:8080/"
        },
        "id": "7MExzheywBn2",
        "outputId": "931596cd-8ae7-413d-9ac6-2837632e32f8"
      },
      "source": [
        "!pip install pymatrix"
      ],
      "execution_count": null,
      "outputs": [
        {
          "output_type": "stream",
          "name": "stdout",
          "text": [
            "Looking in indexes: https://pypi.org/simple, https://us-python.pkg.dev/colab-wheels/public/simple/\n",
            "Collecting pymatrix\n",
            "  Downloading pymatrix-3.0.1.tar.gz (7.1 kB)\n",
            "Building wheels for collected packages: pymatrix\n",
            "  Building wheel for pymatrix (setup.py) ... \u001b[?25l\u001b[?25hdone\n",
            "  Created wheel for pymatrix: filename=pymatrix-3.0.1-py3-none-any.whl size=7061 sha256=f3f6161cf42ad2abb5be713b52e159f8722d2d01269d3487d598f28f3457012c\n",
            "  Stored in directory: /root/.cache/pip/wheels/ee/f8/38/14c751f7d251be3c79b9a5c824e8ec3aa561c28ec597bea288\n",
            "Successfully built pymatrix\n",
            "Installing collected packages: pymatrix\n",
            "Successfully installed pymatrix-3.0.1\n"
          ]
        }
      ]
    },
    {
      "cell_type": "code",
      "metadata": {
        "colab": {
          "base_uri": "https://localhost:8080/"
        },
        "id": "gXrzTGZYxWTq",
        "outputId": "510bd45b-27fa-42e5-ff33-8da4a6e8b251"
      },
      "source": [
        "!pip install linalg"
      ],
      "execution_count": null,
      "outputs": [
        {
          "output_type": "stream",
          "name": "stdout",
          "text": [
            "Looking in indexes: https://pypi.org/simple, https://us-python.pkg.dev/colab-wheels/public/simple/\n",
            "Collecting linalg\n",
            "  Downloading linalg-1.0.4.tar.gz (4.7 kB)\n",
            "Building wheels for collected packages: linalg\n",
            "  Building wheel for linalg (setup.py) ... \u001b[?25l\u001b[?25hdone\n",
            "  Created wheel for linalg: filename=linalg-1.0.4-py3-none-any.whl size=6291 sha256=ba69faa7909d1ae1b45c986b420ae5dc4b5012f001769cc01af21b83cc066434\n",
            "  Stored in directory: /root/.cache/pip/wheels/b3/ac/b7/b2ea1994c7bac9ea1128b68cbb89aec5dd19232852133113ea\n",
            "Successfully built linalg\n",
            "Installing collected packages: linalg\n",
            "Successfully installed linalg-1.0.4\n"
          ]
        }
      ]
    },
    {
      "cell_type": "code",
      "metadata": {
        "id": "rRKg298lkYpn"
      },
      "source": [
        "import numpy as np\n",
        "import random\n",
        "from threading import Thread\n",
        "import time\n",
        "import pandas as pd\n",
        "import sympy as sp\n",
        "from sympy.matrices import Matrix\n",
        "import linalg\n",
        "from pymatrix import Matrix\n",
        "import tensorflow as tf\n"
      ],
      "execution_count": null,
      "outputs": []
    },
    {
      "cell_type": "code",
      "metadata": {
        "id": "MTrqgwT9khoV"
      },
      "source": [
        "size = 100\n",
        "mat1 = np.random.randint(1,10,(size,size))\n",
        "mat2 = np.random.randint(1,10,(size,size))\n"
      ],
      "execution_count": null,
      "outputs": []
    },
    {
      "cell_type": "code",
      "metadata": {
        "colab": {
          "base_uri": "https://localhost:8080/"
        },
        "id": "72UPxDPkkyqT",
        "outputId": "b923d5c8-d743-47ed-830e-34020de3d840"
      },
      "source": [
        "mat1.shape,mat2.shape"
      ],
      "execution_count": null,
      "outputs": [
        {
          "output_type": "execute_result",
          "data": {
            "text/plain": [
              "((100, 100), (100, 100))"
            ]
          },
          "metadata": {},
          "execution_count": 5
        }
      ]
    },
    {
      "cell_type": "markdown",
      "metadata": {
        "id": "tfVGxhilk64I"
      },
      "source": [
        "Serial"
      ]
    },
    {
      "cell_type": "code",
      "metadata": {
        "id": "n7xKJ7Hvkzv0"
      },
      "source": [
        "def matmul_serial(mat1,mat2):\n",
        "\n",
        "  res = np.array([[0 for x in range(mat1.shape[1])] for y in range(mat2.shape[0])])\n",
        "  start=time.time()\n",
        "  for i in range(len(mat1)):\n",
        "      for j in range(len(mat2[0])):\n",
        "          for k in range(len(mat2)):\n",
        "\n",
        "              res[i][j] += mat1[i][k] * mat2[k][j]\n",
        "  return (\"Serial\",time.time()-start)"
      ],
      "execution_count": null,
      "outputs": []
    },
    {
      "cell_type": "markdown",
      "metadata": {
        "id": "HlshaTbclT9A"
      },
      "source": [
        "Data Parallel"
      ]
    },
    {
      "cell_type": "code",
      "metadata": {
        "id": "ozbt0mvplHx_"
      },
      "source": [
        "def multiply(n1,n2,rets,ind):\n",
        "    rets[ind]= n1*n2\n",
        "def matmul_data_parallel(a,b):\n",
        "    threads = [None] * len(a)\n",
        "    ret = [None] * len(a)\n",
        "    res = []\n",
        "    start=time.time()\n",
        "    for i in range (len(a)):\n",
        "        dummy_var=[]\n",
        "        for j in range(len(b[0])):\n",
        "            for k in range(len(b)):\n",
        "                threads[k] = Thread(target=multiply, args=(a[i][k],b[k][j],ret,k))\n",
        "                threads[k].start()\n",
        "            dummy_var.append(sum(ret))\n",
        "            # print(dummy_var)\n",
        "        res.append(dummy_var)\n",
        "    return (\"Data Parallel\",time.time()-start)\n",
        "\n"
      ],
      "execution_count": null,
      "outputs": []
    },
    {
      "cell_type": "markdown",
      "metadata": {
        "id": "xRJLf3qhnry7"
      },
      "source": [
        "Numpy Implementation"
      ]
    },
    {
      "cell_type": "code",
      "metadata": {
        "id": "kf3h-ilrlIxU"
      },
      "source": [
        "def matmul_np(mat1,mat2):\n",
        "  start=time.time()\n",
        "  mat1 @ mat2\n",
        "  return (\"Numpy\",time.time()-start)"
      ],
      "execution_count": null,
      "outputs": []
    },
    {
      "cell_type": "code",
      "metadata": {
        "colab": {
          "base_uri": "https://localhost:8080/"
        },
        "id": "0O2h0YkOnxI6",
        "outputId": "c7380f6a-f19b-4c29-9512-dfbd5fd6e854"
      },
      "source": [
        "matmul_np(mat1,mat2)"
      ],
      "execution_count": null,
      "outputs": [
        {
          "output_type": "execute_result",
          "data": {
            "text/plain": [
              "('Numpy', 0.0018389225006103516)"
            ]
          },
          "metadata": {},
          "execution_count": 9
        }
      ]
    },
    {
      "cell_type": "markdown",
      "metadata": {
        "id": "nmACPZetrSOo"
      },
      "source": [
        "Pandas Implementation\n"
      ]
    },
    {
      "cell_type": "code",
      "metadata": {
        "id": "aQD3mmudpFTV"
      },
      "source": [
        "def matmul_pandas(mat1,mat2):\n",
        "  start=time.time()\n",
        "  mat1_df=pd.DataFrame(data=mat1)\n",
        "  mat2_df=pd.DataFrame(data=mat2)\n",
        "  mat1_df.dot(mat2_df)\n",
        "  return (\"Pandas\",time.time()-start)"
      ],
      "execution_count": null,
      "outputs": []
    },
    {
      "cell_type": "code",
      "metadata": {
        "colab": {
          "base_uri": "https://localhost:8080/"
        },
        "id": "wzqBX8oXr3wG",
        "outputId": "8fa5c5f0-fe04-4a0a-b52f-cbd1b835387b"
      },
      "source": [
        "matmul_pandas(mat1,mat2)"
      ],
      "execution_count": null,
      "outputs": [
        {
          "output_type": "execute_result",
          "data": {
            "text/plain": [
              "('Pandas', 0.006367683410644531)"
            ]
          },
          "metadata": {},
          "execution_count": 11
        }
      ]
    },
    {
      "cell_type": "markdown",
      "metadata": {
        "id": "HWNDk3ITvFE1"
      },
      "source": [
        "Sympy Implementation"
      ]
    },
    {
      "cell_type": "code",
      "metadata": {
        "id": "vwg9ZPaPtf00"
      },
      "source": [
        "def matmul_sympy(mat1,mat2):\n",
        "  start=time.time()\n",
        "  sp.Matrix(mat1)*(sp.Matrix(mat2))\n",
        "  return (\"Sympy\",time.time()-start)"
      ],
      "execution_count": null,
      "outputs": []
    },
    {
      "cell_type": "code",
      "metadata": {
        "colab": {
          "base_uri": "https://localhost:8080/"
        },
        "id": "-zTa1nkUt_CQ",
        "outputId": "5fb864f6-eba1-47a6-e760-c901b6eba306"
      },
      "source": [
        "matmul_sympy(mat1,mat2)"
      ],
      "execution_count": null,
      "outputs": [
        {
          "output_type": "execute_result",
          "data": {
            "text/plain": [
              "('Sympy', 3.512709379196167)"
            ]
          },
          "metadata": {},
          "execution_count": 13
        }
      ]
    },
    {
      "cell_type": "markdown",
      "metadata": {
        "id": "rI0CikDRwJ6j"
      },
      "source": [
        "PyMatrix Implementation"
      ]
    },
    {
      "cell_type": "code",
      "metadata": {
        "id": "JkgiB_gUu0vE"
      },
      "source": [
        "def matmul_pymatrix(mat1,mat2):\n",
        "  start=time.time()\n",
        "  m1=Matrix.from_list(mat1)\n",
        "  m2=Matrix.from_list(mat2)\n",
        "  m1*m2\n",
        "  return (\"pymatrix\",time.time()-start)\n",
        "\n"
      ],
      "execution_count": null,
      "outputs": []
    },
    {
      "cell_type": "code",
      "metadata": {
        "colab": {
          "base_uri": "https://localhost:8080/"
        },
        "id": "-CCgKFII0q_k",
        "outputId": "b9b02cc8-5772-4033-a2a2-0cf05236dbd9"
      },
      "source": [
        "matmul_pymatrix(mat1,mat2)"
      ],
      "execution_count": null,
      "outputs": [
        {
          "output_type": "execute_result",
          "data": {
            "text/plain": [
              "('pymatrix', 0.5815014839172363)"
            ]
          },
          "metadata": {},
          "execution_count": 15
        }
      ]
    },
    {
      "cell_type": "markdown",
      "metadata": {
        "id": "bwzaX94mxbgz"
      },
      "source": [
        "Linalg Implementation"
      ]
    },
    {
      "cell_type": "code",
      "metadata": {
        "id": "bhiEVp1vwZor"
      },
      "source": [
        "def matmul_linalg(mat1,mat2):\n",
        "  start=time.time()\n",
        "  # m1=linalg.Matrix(mat1)\n",
        "  # m2=linalg.Matrix(mat2)\n",
        "  m1 = linalg.random_matrix((size, size), (0, 10))\n",
        "  m2 = linalg.random_matrix((size, size), (0, 10))\n",
        "  m1 @ m2\n",
        "  return (\"Linalg\",time.time()-start)\n",
        "\n"
      ],
      "execution_count": null,
      "outputs": []
    },
    {
      "cell_type": "code",
      "metadata": {
        "colab": {
          "base_uri": "https://localhost:8080/"
        },
        "id": "hPJC3TZExvKn",
        "outputId": "658c3d2b-6a26-4b23-c33d-53ae23460efb"
      },
      "source": [
        "matmul_linalg(mat1,mat2)"
      ],
      "execution_count": null,
      "outputs": [
        {
          "output_type": "execute_result",
          "data": {
            "text/plain": [
              "('Linalg', 0.09786295890808105)"
            ]
          },
          "metadata": {},
          "execution_count": 17
        }
      ]
    },
    {
      "cell_type": "markdown",
      "metadata": {
        "id": "F_-UrRdH8-Ah"
      },
      "source": [
        "Tensorflow"
      ]
    },
    {
      "cell_type": "code",
      "metadata": {
        "id": "sBULq3DdxzWi"
      },
      "source": [
        "def matmul_tf(mat1,mat2):\n",
        "  start=time.time()\n",
        "  m1=tf.convert_to_tensor(mat1,dtype=tf.int32)\n",
        "  m2=tf.convert_to_tensor(mat2,dtype=tf.int32)\n",
        "  tf.matmul(m1,m2)\n",
        "  return (\"Tensorflow\",time.time()-start)\n"
      ],
      "execution_count": null,
      "outputs": []
    },
    {
      "cell_type": "code",
      "metadata": {
        "colab": {
          "base_uri": "https://localhost:8080/"
        },
        "id": "xSup34BMx_YI",
        "outputId": "abff4a4d-908f-44d6-ba3f-01992a5a0aa7"
      },
      "source": [
        "matmul_tf(mat1,mat2)"
      ],
      "execution_count": null,
      "outputs": [
        {
          "output_type": "execute_result",
          "data": {
            "text/plain": [
              "('Tensorflow', 2.8102447986602783)"
            ]
          },
          "metadata": {},
          "execution_count": 19
        }
      ]
    },
    {
      "cell_type": "code",
      "metadata": {
        "id": "HMq8C2Hh9VCx"
      },
      "source": [
        "all_functions={}\n",
        "for i in [matmul_tf,matmul_linalg,matmul_pymatrix,matmul_sympy,matmul_pandas,matmul_np,matmul_data_parallel,matmul_serial]:\n",
        "  key,value=i(mat1,mat2)\n",
        "  all_functions[key]=value\n"
      ],
      "execution_count": null,
      "outputs": []
    },
    {
      "cell_type": "code",
      "metadata": {
        "colab": {
          "base_uri": "https://localhost:8080/",
          "height": 592
        },
        "id": "Yxf3NzyU-Hyv",
        "outputId": "c90eed6a-678b-4499-a0e2-84cf206326ad"
      },
      "source": [
        "import matplotlib.pyplot as plt\n",
        "plt.figure(figsize=(10,10))\n",
        "plt.plot(range(len(all_functions)), list(all_functions.values()))\n",
        "plt.xticks(range(len(all_functions)), list(all_functions.keys()))\n",
        "plt.show()"
      ],
      "execution_count": null,
      "outputs": [
        {
          "output_type": "display_data",
          "data": {
            "text/plain": [
              "<Figure size 720x720 with 1 Axes>"
            ],
            "image/png": "[encoded data removed]"
          },
          "metadata": {
            "needs_background": "light"
          }
        }
      ]
    },
    {
      "cell_type": "code",
      "metadata": {
        "id": "E_eLAFMZ_emV"
      },
      "source": [],
      "execution_count": null,
      "outputs": []
    }
  ]
}
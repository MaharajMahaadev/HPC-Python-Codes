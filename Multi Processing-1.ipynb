{
  "nbformat": 4,
  "nbformat_minor": 0,
  "metadata": {
    "colab": {
      "provenance": []
    },
    "kernelspec": {
      "name": "python3",
      "display_name": "Python 3"
    },
    "language_info": {
      "name": "python"
    }
  },
  "cells": [
    {
      "cell_type": "code",
      "execution_count": null,
      "metadata": {
        "id": "HhCltXz2Tkgu"
      },
      "outputs": [],
      "source": [
        "from multiprocessing import Process\n",
        "def powerset(arr):\n",
        "  powerset_list=[]\n",
        "  for i in range(1<<len(arr)):\n",
        "    powerset_list.append([arr[j] for j in range(len(arr)) if (i & (1<<j))])\n",
        "  return powerset_list"
      ]
    },
    {
      "cell_type": "code",
      "source": [
        "powerlist=powerset([i for i in range(1,4)])"
      ],
      "metadata": {
        "id": "-jetUTOSTsVO"
      },
      "execution_count": null,
      "outputs": []
    },
    {
      "cell_type": "code",
      "source": [
        "from sympy import *\n",
        "def checkprime(powerlist):\n",
        "  prime_sum_set=[]\n",
        "  s=0\n",
        "  for i in powerlist:\n",
        "    prime_sum_set.append(isprime(sum(i)))\n",
        "  return prime_sum_set"
      ],
      "metadata": {
        "id": "d6pUuViMTvke"
      },
      "execution_count": null,
      "outputs": []
    },
    {
      "cell_type": "code",
      "source": [
        "powerlist"
      ],
      "metadata": {
        "colab": {
          "base_uri": "https://localhost:8080/"
        },
        "id": "_9CFYbnZTzPs",
        "outputId": "5dba5da0-0b05-4521-c4b1-91d55f064a30"
      },
      "execution_count": null,
      "outputs": [
        {
          "output_type": "execute_result",
          "data": {
            "text/plain": [
              "[[], [1], [2], [1, 2], [3], [1, 3], [2, 3], [1, 2, 3]]"
            ]
          },
          "metadata": {},
          "execution_count": 4
        }
      ]
    },
    {
      "cell_type": "code",
      "source": [
        "checkprime(powerlist)"
      ],
      "metadata": {
        "colab": {
          "base_uri": "https://localhost:8080/"
        },
        "id": "fRs2U0mAT1bN",
        "outputId": "72dcdca8-9b37-4a1f-db2f-eb923ab6d86c"
      },
      "execution_count": null,
      "outputs": [
        {
          "output_type": "execute_result",
          "data": {
            "text/plain": [
              "[False, False, True, True, True, False, True, False]"
            ]
          },
          "metadata": {},
          "execution_count": 5
        }
      ]
    },
    {
      "cell_type": "code",
      "source": [
        "import time\n",
        "start=time.time()\n",
        "single_process_res=checkprime(powerlist)\n",
        "print('Single process takes ',time.time()-start)\n",
        "print(single_process_res)"
      ],
      "metadata": {
        "colab": {
          "base_uri": "https://localhost:8080/"
        },
        "id": "loEvSLLqT3Lf",
        "outputId": "137dff59-ee8d-4ebd-a1ab-73afc1fd5f33"
      },
      "execution_count": null,
      "outputs": [
        {
          "output_type": "stream",
          "name": "stdout",
          "text": [
            "Single process takes  0.00013184547424316406\n",
            "[False, False, True, True, True, False, True, False]\n"
          ]
        }
      ]
    },
    {
      "cell_type": "code",
      "source": [
        "import multiprocessing\n",
        "pool=multiprocessing.Pool(processes=2)\n",
        "len_list=len(powerlist)\n",
        "l1=powerlist[:len_list//2]\n",
        "l2=powerlist[len_list//2:]\n",
        "start=time.time()\n",
        "result=pool.map(checkprime,[l1,l2])\n",
        "print(\"Parallel process takes\", time.time()-start)"
      ],
      "metadata": {
        "colab": {
          "base_uri": "https://localhost:8080/"
        },
        "id": "MpI4G1e_T7xo",
        "outputId": "eb82b91f-d15b-4dd7-9064-72db25cb7c42"
      },
      "execution_count": null,
      "outputs": [
        {
          "output_type": "stream",
          "name": "stdout",
          "text": [
            "Parallel process takes 0.0017333030700683594\n"
          ]
        }
      ]
    },
    {
      "cell_type": "code",
      "source": [
        "import requests\n",
        "import threading\n",
        "target_url = \"https://raw.githubusercontent.com/dwyl/english-words/master/words.txt\"\n",
        "response = requests.get(target_url)\n",
        "data = response.text\n",
        "list1 = data.split('\\n')"
      ],
      "metadata": {
        "id": "IN1G0XahUBWd"
      },
      "execution_count": null,
      "outputs": []
    },
    {
      "cell_type": "code",
      "source": [
        "def check_palindrome(i,j,list1):\n",
        "  list2 = []\n",
        "  for pos in range(i,j):\n",
        "    if list1[pos][::-1] == list1[pos]:\n",
        "      list2.append(list1[pos])\n",
        "  print(list2)\n",
        "  return list2"
      ],
      "metadata": {
        "id": "O2LRAsThUEOf"
      },
      "execution_count": null,
      "outputs": []
    },
    {
      "cell_type": "code",
      "source": [
        "start = time.time()\n",
        "list3 = check_palindrome(0,len(list1),list1)\n",
        "end = time.time()\n",
        "print(\"Time taken = \",end - start)\n"
      ],
      "metadata": {
        "colab": {
          "base_uri": "https://localhost:8080/"
        },
        "id": "TaCY8K3GUGQr",
        "outputId": "175852a5-1875-484e-ad22-e2f9cc93798e"
      },
      "execution_count": null,
      "outputs": [
        {
          "output_type": "stream",
          "name": "stdout",
          "text": [
            "['2', 'a', 'AA', 'AAA', 'AAAA', 'AAAAAA', 'ABA', 'acca', 'ADA', 'addda', 'AEA', 'AFA', 'affa', 'aga', 'AHA', 'AIA', 'AJA', 'AKA', 'ALA', 'alula', 'AMA', 'ana', 'AOA', 'APA', 'ARA', 'ASA', 'ATA', 'AUA', 'awa', 'B', 'B/B', 'BB', 'BBB', 'boob', 'C', 'CAC', 'CAMAC', 'CBC', 'CC', 'CCC', 'CDC', 'CEC', 'CFC', 'CIC', 'cyc', 'civic', 'CMC', 'CNC', 'COC', 'CPC', 'CRC', 'CSC', 'CTC', 'CTTC', 'CWC', 'D', 'DAD', 'DCD', 'DD', 'DDD', 'deed', 'deedeed', 'degged', 'deified', 'deked', 'deled', 'denned', 'dewed', 'DFD', 'DID', 'divid', 'DMD', 'DOD', 'DRD', 'DSD', 'dtd', 'E', 'ecce', 'ECE', 'ee', 'EEE', 'eye', 'eke', 'ELLE', 'eme', 'ene', 'EOE', 'ERE', 'ese', 'esse', 'ette', 'F', 'FF', 'FSF', 'G', 'GBG', 'GG', 'gig', 'goog', 'H', 'hagigah', 'hah', 'halalah', 'hallah', 'heh', 'HH', 'HIH', 'HRH', 'HSH', 'huh', 'i', 'y', '-i-', 'yay', 'yaray', 'ICI', 'IDI', 'ihi', 'ii', 'YY', 'iii', 'imi', 'immi', 'yoy', 'IPI', 'ISI', 'ISSI', 'J', 'JJ', 'K', 'kaiak', 'kayak', 'kakkak', 'keek', 'kelek', 'kinnikinnik', 'KKK', 'kook', 'L', 'LAL', 'LBL', 'LCCL', 'LCL', 'LDL', 'lemel', 'level', 'LL', 'LPL', 'LTL', 'LWL', 'm', 'maam', \"ma'am\", 'madam', 'malam', 'mallam', 'marram', 'mem', 'mesem', 'MFM', 'MGM', 'MIM', 'mym', 'minim', 'MM', 'MMM', 'mmmm', 'mom', 'MRSRM', 'MSM', 'MTM', 'mum', 'murdrum', 'MWM', 'n', 'neven', 'non', 'noon', 'NPN', 'NTN', 'o', '-o-', 'OAO', 'OBO', 'OCO', 'OEO', 'OGO', 'oho', 'OO', 'o-o', 'oooo', 'OSO', 'ottetto', 'oxo', 'P', 'PAP', 'PDP', 'peep', 'peeweep', 'PEP', 'PIP', 'pip-pip', 'PLP', 'PNP', 'POP', 'PP', 'PPP', 'prp', 'PSP', 'PTP', 'pullup', 'PUP', 'PVP', 'Q', 'R', 'RADAR', 'RAR', 'redder', 'refer', 'reifier', 'repaper', 'retter', 'rever', 'reviver', 'RMR', 'RNR', 'rotator', 'rotor', 'RR', 'RSFSR', 'RSR', 'RTR', 's', 'sagas', 'SAS', 'SBS', 'SCCS', 'SCS', 'SDS', 'sees', 'selles', 'sememes', 'semes', 'SES', 'sexes', 'shahs', 'siris', 'sis', 'SLS', 'SMS', 'solos', 'sooloos', 'SOS', 'SPS', 'SRS', 'SS', \"s's\", 'SSS', 'SSTTSS', 'stats', 'STS', 'succus', 'SVS', 'SVVS', 'SWS', 'SXS', 'T', 'TAT', 'tat-tat', 'tat-tat-tat', 'TCT', 'tebbet', 'teet', 'tenet', 'terret', 'tet', 'TFT', 'tgt', 'tibbit', 'tipit', 'tirrit', 'tyt', 'tkt', 'TNT', 'toot', 'torot', 'tot', 'TPT', 'trt', 'TSST', 'TST', 'TT', 'tut-tut', 'TWT', 'txt', 'U', 'ululu', 'umu', 'UPU', 'usu', 'UU', 'V', 'VAV', 'VV', 'W', 'waw', 'waw-waw', 'WNW', 'WOW', 'wow-wow', 'WSW', 'WW', 'X', 'xix', 'xx', 'xxx', 'Z', 'ZZ', 'ZZZ', '']\n",
            "Time taken =  0.2831878662109375\n"
          ]
        }
      ]
    },
    {
      "cell_type": "code",
      "source": [
        "start = time.time()\n",
        "threads = 3\n",
        "n = len(list1)\n",
        "thread_handle = []\n",
        "beg = 0\n",
        "end = n//3\n",
        "\n",
        "for i in range(3):\n",
        "  t = Process(target = check_palindrome,args = (beg,end,list1,))\n",
        "  thread_handle.append(t)\n",
        "  t.start()\n",
        "  (beg,end) = (end,end+(n//3))\n",
        "\n",
        "for j in range(threads):\n",
        "  thread_handle[j].join()\n",
        "end = time.time()\n",
        "print(\"Time taken = \",end - start)"
      ],
      "metadata": {
        "colab": {
          "base_uri": "https://localhost:8080/"
        },
        "id": "kRrLFthvUIrG",
        "outputId": "9ef46bf5-82fa-488c-c1de-2b92153104c8"
      },
      "execution_count": null,
      "outputs": [
        {
          "output_type": "stream",
          "name": "stdout",
          "text": [
            "['goog', 'H', 'hagigah', 'hah', 'halalah', 'hallah', 'heh', 'HH', 'HIH', 'HRH', 'HSH', 'huh', 'i', 'y', '-i-', 'yay', 'yaray', 'ICI', 'IDI', 'ihi', 'ii', 'YY', 'iii', 'imi', 'immi', 'yoy', 'IPI', 'ISI', 'ISSI', 'J', 'JJ', 'K', 'kaiak', 'kayak', 'kakkak', 'keek', 'kelek', 'kinnikinnik', 'KKK', 'kook', 'L', 'LAL', 'LBL', 'LCCL', 'LCL', 'LDL', 'lemel', 'level', 'LL', 'LPL', 'LTL', 'LWL', 'm', 'maam', \"ma'am\", 'madam', 'malam', 'mallam', 'marram', 'mem', 'mesem', 'MFM', 'MGM', 'MIM', 'mym', 'minim', 'MM', 'MMM', 'mmmm', 'mom', 'MRSRM', 'MSM', 'MTM', 'mum', 'murdrum', 'MWM', 'n', 'neven', 'non', 'noon', 'NPN', 'NTN', 'o', '-o-', 'OAO', 'OBO', 'OCO', 'OEO', 'OGO', 'oho', 'OO', 'o-o', 'oooo', 'OSO', 'ottetto', 'oxo', 'P', 'PAP', 'PDP', 'peep', 'peeweep', 'PEP', 'PIP', 'pip-pip', 'PLP', 'PNP', 'POP', 'PP', 'PPP']\n",
            "['2', 'a', 'AA', 'AAA', 'AAAA', 'AAAAAA', 'ABA', 'acca', 'ADA', 'addda', 'AEA', 'AFA', 'affa', 'aga', 'AHA', 'AIA', 'AJA', 'AKA', 'ALA', 'alula', 'AMA', 'ana', 'AOA', 'APA', 'ARA', 'ASA', 'ATA', 'AUA', 'awa', 'B', 'B/B', 'BB', 'BBB', 'boob', 'C', 'CAC', 'CAMAC', 'CBC', 'CC', 'CCC', 'CDC', 'CEC', 'CFC', 'CIC', 'cyc', 'civic', 'CMC', 'CNC', 'COC', 'CPC', 'CRC', 'CSC', 'CTC', 'CTTC', 'CWC', 'D', 'DAD', 'DCD', 'DD', 'DDD', 'deed', 'deedeed', 'degged', 'deified', 'deked', 'deled', 'denned', 'dewed', 'DFD', 'DID', 'divid', 'DMD', 'DOD', 'DRD', 'DSD', 'dtd', 'E', 'ecce', 'ECE', 'ee', 'EEE', 'eye', 'eke', 'ELLE', 'eme', 'ene', 'EOE', 'ERE', 'ese', 'esse', 'ette', 'F', 'FF', 'FSF', 'G', 'GBG', 'GG', 'gig']['prp', 'PSP', 'PTP', 'pullup', 'PUP', 'PVP', 'Q', 'R', 'RADAR', 'RAR', 'redder', 'refer', 'reifier', 'repaper', 'retter', 'rever', 'reviver', 'RMR', 'RNR', 'rotator', 'rotor', 'RR', 'RSFSR', 'RSR', 'RTR', 's', 'sagas', 'SAS', 'SBS', 'SCCS', 'SCS', 'SDS', 'sees', 'selles', 'sememes', 'semes', 'SES', 'sexes', 'shahs', 'siris', 'sis', 'SLS', 'SMS', 'solos', 'sooloos', 'SOS', 'SPS', 'SRS', 'SS', \"s's\", 'SSS', 'SSTTSS', 'stats', 'STS', 'succus', 'SVS', 'SVVS', 'SWS', 'SXS', 'T', 'TAT', 'tat-tat', 'tat-tat-tat', 'TCT', 'tebbet', 'teet', 'tenet', 'terret', 'tet', 'TFT', 'tgt', 'tibbit', 'tipit', 'tirrit', 'tyt', 'tkt', 'TNT', 'toot', 'torot', 'tot', 'TPT', 'trt', 'TSST', 'TST', 'TT', 'tut-tut', 'TWT', 'txt', 'U', 'ululu', 'umu', 'UPU', 'usu', 'UU', 'V', 'VAV', 'VV', 'W', 'waw', 'waw-waw', 'WNW', 'WOW', 'wow-wow', 'WSW', 'WW', 'X', 'xix', 'xx', 'xxx', 'Z', 'ZZ', 'ZZZ', '']\n",
            "\n",
            "Time taken =  0.1872854232788086\n"
          ]
        }
      ]
    },
    {
      "cell_type": "code",
      "source": [
        "pool=multiprocessing.Pool(processes=2)\n",
        "len_list=len(powerlist)\n",
        "start=time.time()\n",
        "result=pool.map(checkprime,[l1,l2])\n",
        "print(\"Parallel process takes\", time.time()-start)"
      ],
      "metadata": {
        "colab": {
          "base_uri": "https://localhost:8080/"
        },
        "id": "Ry6srXyXUMFF",
        "outputId": "8261ccb6-c1fb-4ef1-c91c-7f0975721495"
      },
      "execution_count": null,
      "outputs": [
        {
          "output_type": "stream",
          "name": "stdout",
          "text": [
            "Parallel process takes 0.00146484375\n"
          ]
        }
      ]
    },
    {
      "cell_type": "code",
      "source": [],
      "metadata": {
        "id": "HjV9tFa9UOan"
      },
      "execution_count": null,
      "outputs": []
    }
  ]
}
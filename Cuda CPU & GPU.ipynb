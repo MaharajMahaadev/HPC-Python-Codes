{
  "cells": [
    {
      "cell_type": "code",
      "execution_count": null,
      "metadata": {
        "collapsed": true,
        "id": "C1tLK2rsGFqp"
      },
      "outputs": [],
      "source": [
        "import numpy as np\n",
        "from numba import cuda"
      ]
    },
    {
      "cell_type": "code",
      "execution_count": null,
      "metadata": {
        "collapsed": true,
        "id": "rT4uz05DGFq1"
      },
      "outputs": [],
      "source": [
        "col = 4096; row = 4096;\n",
        "def reverseArray(arr) :\n",
        "    for i in range(col) :\n",
        "        s = 0;\n",
        "        l = row - 1;\n",
        "        while (s < l) :\n",
        "            arr[i][s], arr[i][l] = arr[i][l], arr[i][s];\n",
        "            s += 1;\n",
        "            l -= 1;"
      ]
    },
    {
      "cell_type": "code",
      "execution_count": null,
      "metadata": {
        "id": "9CtGiK-IGFq4"
      },
      "outputs": [],
      "source": [
        "dim = 4096 * 4096\n",
        "\n",
        "threads_per_block = (32, 32)\n",
        "blocks_per_grid = (128, 128)"
      ]
    },
    {
      "cell_type": "code",
      "source": [
        "a = np.arange(dim).reshape(4096,4096).astype(np.int32)\n",
        "out = np.zeros_like(a).astype(np.int32)"
      ],
      "metadata": {
        "id": "51q71sxdQ6cE"
      },
      "execution_count": null,
      "outputs": []
    },
    {
      "cell_type": "code",
      "source": [
        "d_arr = cuda.to_device(a)\n",
        "d_out = cuda.to_device(out)"
      ],
      "metadata": {
        "id": "7eo6g8WNQ1zn"
      },
      "execution_count": null,
      "outputs": []
    },
    {
      "cell_type": "code",
      "execution_count": null,
      "metadata": {
        "colab": {
          "base_uri": "https://localhost:8080/"
        },
        "id": "cZ7E0nfkGFq8",
        "outputId": "7f7ad136-fa02-4586-b57c-1ed655a0c5a0"
      },
      "outputs": [
        {
          "output_type": "stream",
          "name": "stdout",
          "text": [
            "8.28 s ± 622 ms per loop (mean ± std. dev. of 7 runs, 1 loop each)\n"
          ]
        }
      ],
      "source": [
        "%timeit reverseArray(a);"
      ]
    },
    {
      "cell_type": "code",
      "execution_count": null,
      "metadata": {
        "id": "0MIHbF9qGFq_"
      },
      "outputs": [],
      "source": [
        "from numba import jit\n",
        "col = 4096; row = 4096;\n",
        "\n",
        "@jit\n",
        "def reverseArray_cpu_parallel(arr) :\n",
        "    for i in range(col) :\n",
        "        s = 0;\n",
        "        l = row - 1;\n",
        "        while (s < l) :\n",
        "            arr[i][s], arr[i][l] = arr[i][l], arr[i][s];\n",
        "            s += 1;\n",
        "            l -= 1;"
      ]
    },
    {
      "cell_type": "code",
      "execution_count": null,
      "metadata": {
        "colab": {
          "base_uri": "https://localhost:8080/"
        },
        "id": "RyVY78MZGFrC",
        "outputId": "717cb9f3-ce9f-475b-e88b-7986a437bbe4"
      },
      "outputs": [
        {
          "output_type": "stream",
          "name": "stdout",
          "text": [
            "10.2 ms ± 3.33 ms per loop (mean ± std. dev. of 7 runs, 100 loops each)\n"
          ]
        }
      ],
      "source": [
        "%timeit reverseArray_cpu_parallel(a);"
      ]
    },
    {
      "cell_type": "code",
      "execution_count": null,
      "metadata": {
        "collapsed": true,
        "id": "eXFT0XePGFrD"
      },
      "outputs": [],
      "source": [
        "@cuda.jit\n",
        "def reverseArray_gpu(a, out, coalesced):\n",
        "    x, y = cuda.grid(2)\n",
        "    l = 4096*4096\n",
        "    i=1\n",
        "    ll=4096\n",
        "    if coalesced == True:\n",
        "        out[x][ll-y] = a[x][y]\n",
        "        cuda.syncthreads()\n",
        "        i+=1\n",
        "\n",
        "    else:\n",
        "        out[x][ll-y] = a[x][y]\n",
        "        cuda.syncthreads()\n",
        "        i+=1"
      ]
    },
    {
      "cell_type": "code",
      "execution_count": null,
      "metadata": {
        "colab": {
          "base_uri": "https://localhost:8080/"
        },
        "id": "4thWP8UgGFrF",
        "outputId": "04479933-2e2d-44d3-f30e-c63d44934040"
      },
      "outputs": [
        {
          "output_type": "stream",
          "name": "stdout",
          "text": [
            "1.95 ms ± 11.5 µs per loop (mean ± std. dev. of 7 runs, 1000 loops each)\n"
          ]
        }
      ],
      "source": [
        "%timeit reverseArray_gpu[blocks_per_grid, threads_per_block](d_a,d_out,True);cuda.synchronize"
      ]
    },
    {
      "cell_type": "code",
      "execution_count": null,
      "metadata": {
        "collapsed": true,
        "id": "WDwneStYGFrH"
      },
      "outputs": [],
      "source": []
    }
  ],
  "metadata": {
    "kernelspec": {
      "display_name": "Python 3",
      "language": "python",
      "name": "python3"
    },
    "language_info": {
      "codemirror_mode": {
        "name": "ipython",
        "version": 3
      },
      "file_extension": ".py",
      "mimetype": "text/x-python",
      "name": "python",
      "nbconvert_exporter": "python",
      "pygments_lexer": "ipython3",
      "version": "3.6.10"
    },
    "colab": {
      "provenance": []
    },
    "accelerator": "GPU",
    "gpuClass": "standard"
  },
  "nbformat": 4,
  "nbformat_minor": 0
}